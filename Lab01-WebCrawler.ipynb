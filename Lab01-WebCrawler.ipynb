{
 "cells": [
  {
   "attachments": {},
   "cell_type": "markdown",
   "metadata": {
    "colab_type": "text",
    "id": "2pCaNEE5V4Kd"
   },
   "source": [
    "# Lab01: Web Crawler.\n",
    "\n",
    "- MSSV: 19120689\n",
    "- Họ và tên: Lại Khánh Toàn"
   ]
  },
  {
   "cell_type": "markdown",
   "metadata": {
    "colab_type": "text",
    "id": "RW12ABtEV4Kf"
   },
   "source": [
    "## Yêu cầu bài tập\n",
    "\n",
    "**Cách làm bài**\n",
    "\n",
    "\n",
    "Bạn sẽ làm trực tiếp trên file notebook này; trong file, từ `TODO` để cho biết những phần mà bạn cần phải làm.\n",
    "\n",
    "Bạn có thể thảo luận ý tưởng cũng như tham khảo các tài liệu, nhưng *code và bài làm phải là của bạn*. \n",
    "\n",
    "Nếu vi phạm thì sẽ bị 0 điểm cho bài tập này.\n",
    "\n",
    "**Cách nộp bài**\n",
    "\n",
    "Trước khi nộp bài, rerun lại notebook (`Kernel` -> `Restart & Run All`).\n",
    "\n",
    "Sau đó, tạo thư mục có tên `MSSV` của bạn (vd, nếu bạn có MSSV là 1234567 thì bạn đặt tên thư mục là `1234567`) Chép file `Lab01-WebCrawler.ipynb`, `links.txt`, `images.txt` vào, rồi nén thư mục `MSSV` này lại và nộp ở link trên moodle.\n",
    "\n",
    "**Nội dung bài tập**\n",
    "\n",
    "Sử dụng module regex và request để thu thập đường dẫn và hình ảnh từ một trang web."
   ]
  },
  {
   "cell_type": "markdown",
   "metadata": {},
   "source": [
    "## Part 1: Thu thập dữ liệu đơn giản"
   ]
  },
  {
   "cell_type": "markdown",
   "metadata": {
    "colab_type": "text",
    "id": "7SXPfWz-V4Kg"
   },
   "source": [
    "### 1.1. Import"
   ]
  },
  {
   "cell_type": "code",
   "execution_count": 1,
   "metadata": {
    "colab": {},
    "colab_type": "code",
    "id": "NZH1daHoV4Kg"
   },
   "outputs": [],
   "source": [
    "import requests\n",
    "import re"
   ]
  },
  {
   "cell_type": "markdown",
   "metadata": {
    "colab_type": "text",
    "id": "WzzuOjDGV4Kl"
   },
   "source": [
    "### 1.2. Thu thập liên kết"
   ]
  },
  {
   "cell_type": "code",
   "execution_count": 2,
   "metadata": {
    "colab": {},
    "colab_type": "code",
    "id": "bKNjb0THV4Km",
    "outputId": "ef7e8623-d644-4001-ce5c-31b845a37035"
   },
   "outputs": [
    {
     "name": "stdout",
     "output_type": "stream",
     "text": [
      "http://www.w3.org\n",
      "http://ogp.me\n",
      "http://ogp.me\n",
      "http://ogp.me\n",
      "https://www.hcmus.edu.vn\n",
      "https://www.hcmus.edu.vn\n",
      "https://www.hcmus.edu.vn\n",
      "https://www.hcmus.edu.vn\n",
      "https://www.hcmus.edu.vn\n",
      "http://www.hcmus.edu.vn\n",
      "http://portal.hcmus.edu.vn\n",
      "http://mail.office365.com\n",
      "https://www.google.com\n",
      "http://mail.google.com\n",
      "http://www.hcmus.edu.vn\n",
      "http://hocphi.hcmus.edu.vn\n",
      "https://www.facebook.com\n",
      "https://youtu.be\n",
      "https://drive.google.com\n",
      "https://www.hcmus.edu.vn\n",
      "http://doantn.hcmus.edu.vn\n",
      "http://congdoan.hcmus.edu.vn\n",
      "https://www.hcmus.edu.vn\n",
      "https://jobs.hcmus.edu.vn\n",
      "https://drive.google.com\n",
      "http://tuyensinh.hcmus.edu.vn\n",
      "https://sdh.hcmus.edu.vn\n",
      "https://drive.google.com\n",
      "https://sdh.hcmus.edu.vn\n",
      "http://www.e-learning.vn\n",
      "https://pdt.hcmus.edu.vn\n",
      "https://research.hcmus.edu.vn\n",
      "https://hnkh.hcmus.edu.vn\n",
      "http://stdjns.scienceandtechnology.com.vn\n",
      "http://www.bmrat.org\n",
      "http://cellstemcell.org\n",
      "http://www.progressinbiology.org\n",
      "http://ajhs.biomedpress.org\n",
      "https://www.hcmus.edu.vn\n",
      "https://hnkh.hcmus.edu.vn\n",
      "https://www.hcmus.edu.vn\n",
      "https://www.hcmus.edu.vn\n",
      "https://www.hcmus.edu.vn\n",
      "https://www.hcmus.edu.vn\n",
      "https://www.hcmus.edu.vn\n",
      "https://sdh.hcmus.edu.vn\n",
      "https://www.hcmus.edu.vn\n",
      "https://www.hcmus.edu.vn\n",
      "https://www.hcmus.edu.vn\n",
      "https://forms.office.com\n",
      "https://www.hcmus.edu.vn\n",
      "https://forms.office.com\n",
      "https://www.hcmus.edu.vn\n",
      "https://docs.google.com\n",
      "https://video.voh.com.vn\n",
      "https://video.voh.com.vn\n",
      "https://video.voh.com.vn\n",
      "https://video.voh.com.vn\n",
      "https://video.voh.com.vn\n",
      "https://video.voh.com.vn\n",
      "https://video.voh.com.vn\n",
      "https://video.voh.com.vn\n",
      "https://tuyensinh.hcmus.edu.vn\n",
      "https://tuyensinh.hcmus.edu.vn\n",
      "https://www.facebook.com\n",
      "https://drive.google.com\n",
      "https://www.hcmus.edu.vn\n",
      "http://doantn.hcmus.edu.vn\n",
      "http://congdoan.hcmus.edu.vn\n",
      "https://www.hcmus.edu.vn\n",
      "https://jobs.hcmus.edu.vn\n",
      "https://drive.google.com\n",
      "http://tuyensinh.hcmus.edu.vn\n",
      "https://sdh.hcmus.edu.vn\n",
      "https://drive.google.com\n",
      "https://sdh.hcmus.edu.vn\n",
      "http://www.e-learning.vn\n",
      "https://pdt.hcmus.edu.vn\n",
      "https://research.hcmus.edu.vn\n",
      "https://hnkh.hcmus.edu.vn\n",
      "http://stdjns.scienceandtechnology.com.vn\n",
      "http://www.bmrat.org\n",
      "http://cellstemcell.org\n",
      "http://www.progressinbiology.org\n",
      "http://ajhs.biomedpress.org\n",
      "https://www.hcmus.edu.vn\n"
     ]
    }
   ],
   "source": [
    "r = requests.get(\"http://www.hcmus.edu.vn\")\n",
    "\n",
    "# TODO:\n",
    "# Displays all the links present in the specified root URL - \"http://www.hcmus.edu.vn\"\n",
    "# use regex to find all urls from r.text (http[s]://...)\n",
    "\n",
    "url_pattern = \"http[s]?://(?:[-\\w.])+\"\n",
    "urls = re.findall(url_pattern, r.text)\n",
    "\n",
    "\n",
    "# Checking results?\n",
    "for i in urls:\n",
    "    print(i)\n",
    "\n",
    "#Save urls to links.txt\n",
    "# fp = open('links.txt', 'w')\n",
    "# for i in urls:\n",
    "#     fp.write(i)\n",
    "#     fp.write('\\n')\n",
    "# fp.close()"
   ]
  },
  {
   "cell_type": "markdown",
   "metadata": {
    "colab_type": "text",
    "id": "uZJne0sSV4Kq"
   },
   "source": [
    "### 1.3. Thu thập hình ảnh"
   ]
  },
  {
   "cell_type": "code",
   "execution_count": null,
   "metadata": {
    "colab": {},
    "colab_type": "code",
    "id": "IiYJxbp6V4Kq",
    "outputId": "2b6d5963-213f-4842-c61f-52d94c7b5b43"
   },
   "outputs": [],
   "source": [
    "# TODO:\n",
    "# Displays the source of all the images present in the root URL:\n",
    "# img_src=?\n",
    "\n",
    "\n",
    "# Checking results?\n",
    "# for i in img_src:\n",
    "#     print(i)\n",
    "\n",
    "fp = open('images.txt', 'w')\n",
    "for i in img_src:\n",
    "    fp.write(i)\n",
    "    fp.write('\\n')\n",
    "fp.close()"
   ]
  },
  {
   "cell_type": "markdown",
   "metadata": {
    "id": "qNQ_Q-Ziben-"
   },
   "source": [
    "## Part 2. Thu thập và thể hiện dữ liệu web"
   ]
  },
  {
   "cell_type": "markdown",
   "metadata": {
    "id": "XeeBnKp2ben-"
   },
   "source": [
    "### 2.1. Import library"
   ]
  },
  {
   "cell_type": "code",
   "execution_count": 1,
   "metadata": {
    "id": "C0A3kkU9ben_"
   },
   "outputs": [],
   "source": [
    "import requests\n",
    "import re\n",
    "from bs4 import BeautifulSoup\n",
    "from bs4.element import Comment\n",
    "import string"
   ]
  },
  {
   "cell_type": "markdown",
   "metadata": {
    "id": "oW76m9ogben_"
   },
   "source": [
    "### 2.2. HTML Parser"
   ]
  },
  {
   "cell_type": "markdown",
   "metadata": {
    "id": "S4NQvzKSbeoA"
   },
   "source": [
    "\n",
    "Bộ phân tích cú pháp HTML (HTML Parser): nhận HTML code và trích xuất thông tin liên quan như tiêu đề của trang, đoạn văn trong trang, tiêu đề trong trang, liên kết, văn bản in đậm, v.v."
   ]
  },
  {
   "cell_type": "code",
   "execution_count": 2,
   "metadata": {
    "id": "TXZKNmHobeoA"
   },
   "outputs": [
    {
     "name": "stdout",
     "output_type": "stream",
     "text": [
      "Start tag: html\n",
      "Start tag: head\n",
      "Start tag: title\n",
      "Data  : Test\n",
      "End tag : title\n",
      "End tag : head\n"
     ]
    }
   ],
   "source": [
    "from html.parser import HTMLParser\n",
    "\n",
    "class MyHTMLParser(HTMLParser):\n",
    "    def handle_starttag(self, tag, attrs):\n",
    "        print(\"Start tag:\", tag)\n",
    "\n",
    "    def handle_endtag(self, tag):\n",
    "        print(\"End tag :\", tag)\n",
    "\n",
    "    def handle_data(self, data):\n",
    "        print(\"Data  :\", data)\n",
    "\n",
    "parser = MyHTMLParser()\n",
    "parser.feed('<html><head><title>Test</title></head>')"
   ]
  },
  {
   "cell_type": "markdown",
   "metadata": {
    "id": "2hBR89ZYbeoB"
   },
   "source": [
    "#### Loại bỏ các HTML tag không cần thiết bằng cách thiết lập filter"
   ]
  },
  {
   "cell_type": "code",
   "execution_count": 3,
   "metadata": {
    "id": "AUPtUSLIbeoB"
   },
   "outputs": [],
   "source": [
    "def text_filter(element):\n",
    "    if element.parent.name in ['style', 'title', 'script', 'head', '[document]', 'class', 'a', 'li']:\n",
    "        return False\n",
    "    elif isinstance(element, Comment):\n",
    "        '''Opinion mining?'''\n",
    "        return False\n",
    "    elif re.match(r\"[\\s\\r\\n]+\",str(element)): \n",
    "        '''space, return, endline'''\n",
    "        return False\n",
    "    return True"
   ]
  },
  {
   "cell_type": "markdown",
   "metadata": {
    "id": "xv_K3YSTbeoB"
   },
   "source": [
    "### 2.3 Thu thập nội dung trang Web"
   ]
  },
  {
   "cell_type": "markdown",
   "metadata": {
    "id": "z0TWTZy2beoC"
   },
   "source": [
    "#### Trong bài tập này ta thể hiện tài liệu (hay nội dung trang web) với cấu trúc đơn giản như sau: \n",
    "- Gọi $D$ là một tập tài liệu chứa *n* tài liệu: $D=\\left\\{d_1,d_2,...,d_n\\right\\}$.\n",
    "- Ta thể hiện tài liệu bằng một dictionary `data={}` với `data[word]=[[url_idx_1,url_idx_2,...],frequency]` với `url_index`$\\in{\\left[{1,n}\\right]}$\n",
    "\n",
    "VD: `data['at']=[[1,2], 5]`\n",
    "Từ `at` xuất hiện trong đường dẫn có index `1` và `2` tổng số lần xuất hiện là 5."
   ]
  },
  {
   "cell_type": "markdown",
   "metadata": {
    "id": "5dmRymoMbeoC"
   },
   "source": [
    "#### Bước 1: liệt kê các từ xuất hiện trong trang web:"
   ]
  },
  {
   "cell_type": "code",
   "execution_count": 4,
   "metadata": {
    "id": "XNsOj9HDbeoC"
   },
   "outputs": [
    {
     "name": "stdout",
     "output_type": "stream",
     "text": [
      "['Main', 'menu', 'Main', 'menu', 'move', 'to', 'sidebar', 'hide', 'Main', 'page', 'Contents', 'Current', 'events', 'Random', 'article', 'About', 'Wikipedia', 'Contact', 'us', 'Donate', 'Help', 'Learn', 'to', 'edit', 'Community', 'portal', 'Recent', 'changes', 'Upload', 'file', 'Languages', 'Language', 'links', 'are', 'at', 'the', 'top', 'of', 'the', 'page', 'across', 'from', 'the', 'title.', 'Search', 'Create', 'account', 'Log', 'in', 'Personal', 'tools', 'Create', 'account', 'Log', 'in', 'learn', 'more', 'Contributions', 'Talk', 'Contents', 'move', 'to', 'sidebar', 'hide', '(Top)', '1', 'Etymology', '2', 'Background', '3', 'Process', '3.1', 'Pre-processing', '3.2', 'Data', 'mining', '3.3', 'Results', 'validation', '4', 'Research', '5', 'Standards', '6', 'Notable', 'uses', '7', 'Privacy', 'concerns', 'and', 'ethics', '7.1', 'Situation', 'in', 'Europe', '7.2', 'Situation', 'in', 'the', 'United', 'States', '8', 'Copyright', 'law', '8.1', 'Situation', 'in', 'Europe', '8.2', 'Situation', 'in', 'the', 'United', 'States', '9', 'Software', '9.1', 'Free', 'open-source', 'data', 'mining', 'software', 'and', 'applications', '9.2', 'Proprietary', 'data-mining', 'software', 'and', 'applications', '10', 'See', 'also', '11', 'References', '12', 'Further', 'reading', '13', 'External', 'links', 'Toggle', 'the', 'table', 'of', 'contents', 'Data', 'mining', '59', 'languages', 'العربية', 'অসমীয়া', 'Azərbaycanca', 'বাংলা', 'Български', 'Català', 'Čeština', 'Cymraeg', 'Dansk', 'Deutsch', 'Eesti', 'Ελληνικά', 'Español', 'Euskara', 'فارسی', 'Français', '한국어', 'Հայերեն', 'हिन्दी', 'Hrvatski', 'Bahasa', 'Indonesia', 'Italiano', 'עברית', 'ಕನ್ನಡ', 'Latviešu', 'Magyar', 'Македонски', 'മലയാളം', 'मराठी', 'Bahasa', 'Melayu', 'Монгол', 'မြန်မာဘာသာ', 'Nederlands', '日本語', 'Norsk', 'bokmål', 'Norsk', 'nynorsk', 'Polski', 'Português', 'Română', 'Русский', 'Shqip', 'Simple', 'English', 'Slovenčina', 'Slovenščina', 'Српски', '/', 'srpski', 'Srpskohrvatski', '/', 'српскохрватски', 'Sunda', 'Suomi', 'Svenska', 'தமிழ்', 'ไทย', 'Тоҷикӣ', 'Türkçe', 'Українська', 'Tiếng', 'Việt', '吴语', 'ייִדיש', '粵語', '中文', 'Article', 'Talk', 'English', 'Read', 'Edit', 'View', 'history', 'Tools', 'Tools', 'move', 'to', 'sidebar', 'hide', 'Read', 'Edit', 'View', 'history', 'What', 'links', 'here', 'Related', 'changes', 'Upload', 'file', 'Special', 'pages', 'Permanent', 'link', 'Page', 'information', 'Cite', 'this', 'page', 'Wikidata', 'item', 'Download', 'as', 'PDF', 'Printable', 'version', 'Wikimedia', 'Commons', 'From', 'Wikipedia,', 'the', 'free', 'encyclopedia', '(Redirected', 'from', '', ')', 'Process', 'of', 'extracting', 'and', 'discovering', 'patterns', 'in', 'large', 'data', 'sets', '\"Web', 'mining\"', 'redirects', 'here.', 'For', 'web', 'browser-based', 'cryptocurrency', 'mining,', 'see', '', '.', 'Part', 'of', 'a', 'series', 'on', 'and', '', 'Paradigms', 'Problems', '(', ')', 'k', 'k', 'k', 'Learning', 'with', 'humans', 'Model', 'diagnostics', 'Theory', 'Machine-learning', 'venues', 'Related', 'articles', 'v', 't', 'e', 'Data', 'mining', ',', '', ',', 'and', '', '.', ',', '', ',', 'and', '', '.', 'The', 'term', '\"data', 'mining\"', 'is', 'a', '', 'mining', '.', ',', '', ',', '', ',', 'analysis,', 'and', 'statistics)', 'as', 'well', 'as', 'any', 'application', 'of', '', ',', 'including', '', '.', 'The', 'book', '', 'Data', 'mining:', 'Practical', 'machine', 'learning', 'tools', 'and', 'techniques', 'with', '', 'Practical', 'machine', 'learning', ',', 'and', 'the', 'term', '', 'data', 'mining', 'large', 'scale', ')', '', '—or,', 'when', 'referring', 'to', 'actual', 'methods,', '', 'artificial', 'intelligence', 'machine', 'learning', '—are', 'more', 'appropriate.\\n', 'The', 'actual', 'data', 'mining', 'task', 'is', 'the', 'semi-', '),', 'unusual', 'records', '(', '),', 'and', '', ',', '', ').', 'This', 'usually', 'involves', 'using', 'database', 'techniques', 'such', 'as', '', '.', 'These', 'patterns', 'can', 'then', 'be', 'seen', 'as', 'a', 'kind', 'of', 'summary', 'of', 'the', 'input', 'data,', 'and', 'may', 'be', 'used', 'in', 'further', 'analysis', 'or,', 'for', 'example,', 'in', 'machine', 'learning', 'and', '', '.', 'For', 'example,', 'the', 'data', 'mining', 'step', 'might', 'identify', 'multiple', 'groups', 'in', 'the', 'data,', 'which', 'can', 'then', 'be', 'used', 'to', 'obtain', 'more', 'accurate', 'prediction', 'results', 'by', 'a', '', '.', 'Neither', 'the', 'data', 'collection,', 'data', 'preparation,', 'nor', 'result', 'interpretation', 'and', 'reporting', 'is', 'part', 'of', 'the', 'data', 'mining', 'step,', 'although', 'they', 'do', 'belong', 'to', 'the', 'overall', 'KDD', 'process', 'as', 'additional', 'steps.\\n', 'The', 'difference', 'between', '', ',', 'regardless', 'of', 'the', 'amount', 'of', 'data.', 'In', 'contrast,', 'data', 'mining', 'uses', 'machine', 'learning', 'and', 'statistical', 'models', 'to', 'uncover', 'clandestine', 'or', 'hidden', 'patterns', 'in', 'a', 'large', 'volume', 'of', 'data.', 'The', 'related', 'terms', '', ',', '', 'data', 'fishing', ',', 'and', '', 'Etymology', '[', ']', 'In', 'the', '1960s,', 'statisticians', 'and', 'economists', 'used', 'terms', 'like', '', 'data', 'fishing', 'data', 'dredging', 'The', 'term', '', 'data', 'mining', '-based', 'company,', 'to', 'pitch', 'their', 'Database', 'Mining', 'Workstation;', 'data', 'mining', '.', 'Other', 'terms', 'used', 'include', '', 'data', 'archaeology', ',', '', 'information', 'harvesting', ',', '', 'information', 'discovery', ',', '', ',', 'etc.', '', 'data', 'mining', 'knowledge', 'discovery', 'Background', '[', ']', 'The', 'manual', 'extraction', 'of', 'patterns', 'from', '', ',', '', ',', '', 'Process', '[', ']', 'The', '', 'knowledge', 'discovery', 'in', 'databases', '(KDD)', 'process', 'Data', 'mining', 'It', 'exists,', 'however,', 'in', 'many', 'variations', 'on', 'this', 'theme,', 'such', 'as', 'the', '', 'or', 'a', 'simplified', 'process', 'such', 'as', '(1)', 'Pre-processing,', '(2)', 'Data', 'Mining,', 'and', '(3)', 'Results', 'Validation.\\n', 'Polls', 'conducted', 'in', '2002,', '2004,', '2007', 'and', '2014', 'show', 'that', 'the', 'CRISP-DM', 'methodology', 'is', 'the', 'leading', 'methodology', 'used', 'by', 'data', 'miners.', '.', 'However,', '3–4', 'times', 'as', 'many', 'people', 'reported', 'using', 'CRISP-DM.', 'Several', 'teams', 'of', 'researchers', 'have', 'published', 'reviews', 'of', 'data', 'mining', 'process', 'models,', 'Pre-processing', '[', ']', 'Before', 'data', 'mining', 'algorithms', 'can', 'be', 'used,', 'a', 'target', 'data', 'set', 'must', 'be', 'assembled.', 'As', 'data', 'mining', 'can', 'only', 'uncover', 'patterns', 'actually', 'present', 'in', 'the', 'data,', 'the', 'target', 'data', 'set', 'must', 'be', 'large', 'enough', 'to', 'contain', 'these', 'patterns', 'while', 'remaining', 'concise', 'enough', 'to', 'be', 'mined', 'within', 'an', 'acceptable', 'time', 'limit.', 'A', 'common', 'source', 'for', 'data', 'is', 'a', '', '.', 'Pre-processing', 'is', 'essential', 'to', 'analyze', 'the', '', '.\\n', 'Data', 'mining', '[', ']', 'Data', 'mining', 'involves', 'six', 'common', 'classes', 'of', 'tasks:', 'Results', 'validation', '[', ']', 'An', 'example', 'of', 'data', 'produced', 'by', '', 'Data', 'mining', 'can', 'unintentionally', 'be', 'misused,', 'producing', 'results', 'that', 'appear', 'to', 'be', 'significant', 'but', 'which', 'do', 'not', 'actually', 'predict', 'future', 'behavior', 'and', 'cannot', 'be', '', '.', 'A', 'simple', 'version', 'of', 'this', 'problem', 'in', '', ',', 'but', 'the', 'same', 'problem', 'can', 'arise', 'at', 'different', 'phases', 'of', 'the', 'process', 'and', 'thus', 'a', 'train/test', 'split—when', 'applicable', 'at', 'all—may', 'not', 'be', 'sufficient', 'to', 'prevent', 'this', 'from', 'happening.', 'The', 'final', 'step', 'of', 'knowledge', 'discovery', 'from', 'data', 'is', 'to', 'verify', 'that', 'the', 'patterns', 'produced', 'by', 'the', 'data', 'mining', 'algorithms', 'occur', 'in', 'the', 'wider', 'data', 'set.', 'Not', 'all', 'patterns', 'found', 'by', 'the', 'algorithms', 'are', 'necessarily', 'valid.', 'It', 'is', 'common', 'for', 'data', 'mining', 'algorithms', 'to', 'find', 'patterns', 'in', 'the', 'training', 'set', 'which', 'are', 'not', 'present', 'in', 'the', 'general', 'data', 'set.', 'This', 'is', 'called', '', '.', 'To', 'overcome', 'this,', 'the', 'evaluation', 'uses', 'a', '', 'not', '.\\n', 'If', 'the', 'learned', 'patterns', 'do', 'not', 'meet', 'the', 'desired', 'standards,', 'it', 'is', 'necessary', 'to', 're-evaluate', 'and', 'change', 'the', 'pre-processing', 'and', 'data', 'mining', 'steps.', 'If', 'the', 'learned', 'patterns', 'do', 'meet', 'the', 'desired', 'standards,', 'then', 'the', 'final', 'step', 'is', 'to', 'interpret', 'the', 'learned', 'patterns', 'and', 'turn', 'them', 'into', 'knowledge.\\n', 'Research', '[', ']', 'The', 'premier', 'professional', 'body', 'in', 'the', 'field', 'is', 'the', '', \"'s\", '(ACM)', 'Special', 'Interest', 'Group', '(SIG)', 'on', 'Knowledge', 'Discovery', 'and', 'Data', 'Mining', '(', ').', 'Computer', 'science', 'conferences', 'on', 'data', 'mining', 'include:\\n', 'Data', 'mining', 'topics', 'are', 'also', 'present', 'in', 'many', '', '.\\n', 'Standards', '[', ']', 'There', 'have', 'been', 'some', 'efforts', 'to', 'define', 'standards', 'for', 'the', 'data', 'mining', 'process,', 'for', 'example,', 'the', '1999', 'European', '', 'For', 'exchanging', 'the', 'extracted', 'models—in', 'particular', 'for', 'use', 'in', '', '—the', 'key', 'standard', 'is', 'the', '', '-based', 'language', 'developed', 'by', 'the', 'Data', 'Mining', 'Group', '(DMG)', 'and', 'supported', 'as', 'exchange', 'format', 'by', 'many', 'data', 'mining', 'applications.', 'As', 'the', 'name', 'suggests,', 'it', 'only', 'covers', 'prediction', 'models,', 'a', 'particular', 'data', 'mining', 'task', 'of', 'high', 'importance', 'to', 'business', 'applications.', 'However,', 'extensions', 'to', 'cover', '(for', 'example)', '', 'Notable', 'uses', '[', ']', 'Main', 'article:', '', 'See', 'also:', '', 'Data', 'mining', 'is', 'used', 'wherever', 'there', 'is', 'digital', 'data', 'available', 'today.', 'Notable', '', 'Privacy', 'concerns', 'and', 'ethics', '[', ']', 'While', 'the', 'term', '\"data', 'mining\"', 'itself', 'may', 'have', 'no', 'ethical', 'implications,', 'it', 'is', 'often', 'associated', 'with', 'the', 'mining', 'of', 'information', 'in', 'relation', 'to', '', 'The', 'ways', 'in', 'which', 'data', 'mining', 'can', 'be', 'used', 'can', 'in', 'some', 'cases', 'and', 'contexts', 'raise', 'questions', 'regarding', '', ',', 'legality,', 'and', '', '.', ',', 'has', 'raised', 'privacy', 'concerns.', 'Data', 'mining', 'requires', 'data', 'preparation', 'which', 'uncovers', 'information', 'or', 'patterns', 'which', 'compromise', '', '.', '', 'per', 'se', ',', 'but', 'a', 'result', 'of', 'the', 'preparation', 'of', 'data', 'before—and', 'for', 'the', 'purposes', 'of—the', 'analysis.', 'The', 'threat', 'to', 'an', \"individual's\", 'privacy', 'comes', 'into', 'play', 'when', 'the', 'data,', 'once', 'compiled,', 'cause', 'the', 'data', 'miner,', 'or', 'anyone', 'who', 'has', 'access', 'to', 'the', 'newly', 'compiled', 'data', 'set,', 'to', 'be', 'able', 'to', 'identify', 'specific', 'individuals,', 'especially', 'when', 'the', 'data', 'were', 'originally', 'anonymous.', 'It', 'is', 'recommended', '[', 'according', 'to', 'whom?', ']', 'before', 'Data', 'may', 'also', 'be', 'modified', 'so', 'as', 'to', '', 'become', '\"', 'data', 'sets', 'can', 'potentially', 'contain', 'enough', 'information', 'to', 'allow', 'identification', 'of', 'individuals,', 'as', 'occurred', 'when', 'journalists', 'were', 'able', 'to', 'find', 'several', 'individuals', 'based', 'on', 'a', 'set', 'of', 'search', 'histories', 'that', 'were', 'inadvertently', 'released', 'by', 'AOL.', 'The', 'inadvertent', 'revelation', 'of', '', ',', 'the', 'patrons', 'of', 'Walgreens', 'filed', 'a', 'lawsuit', 'against', 'the', 'company', 'in', '2011', 'for', 'selling\\nprescription', 'information', 'to', 'data', 'mining', 'companies', 'who', 'in', 'turn', 'provided', 'the', 'data\\nto', 'pharmaceutical', 'companies.', 'Situation', 'in', 'Europe', '[', ']', ',', 'developed', 'between', '1998', 'and', '2000,', 'currently', 'effectively', 'expose', 'European', 'users', 'to', 'privacy', 'exploitation', 'by', 'U.S.', 'companies.', 'As', 'a', 'consequence', 'of', '', \"'s\", '', ',', 'there', 'has', 'been', 'increased', 'discussion', 'to', 'revoke', 'this', 'agreement,', 'as', 'in', 'particular', 'the', 'data', 'will', 'be', 'fully', 'exposed', 'to', 'the', '', ',', 'and', 'attempts', 'to', 'reach', 'an', 'agreement', 'with', 'the', 'United', 'States', 'have', 'failed.', 'In', 'the', 'United', 'Kingdom', 'in', 'particular', 'there', 'have', 'been', 'cases', 'of', 'corporations', 'using', 'data', 'mining', 'as', 'a', 'way', 'to', 'target', 'certain', 'groups', 'of', 'customers', 'forcing', 'them', 'to', 'pay', 'unfairly', 'high', 'prices.', 'These', 'groups', 'tend', 'to', 'be', 'people', 'of', 'lower', 'socio-economic', 'status', 'who', 'are', 'not', 'savvy', 'to', 'the', 'ways', 'they', 'can', 'be', 'exploited', 'in', 'digital', 'market', 'places.', 'Situation', 'in', 'the', 'United', 'States', '[', ']', 'In', 'the', 'United', 'States,', 'privacy', 'concerns', 'have', 'been', 'addressed', 'by', 'the', '', 'Biotech', 'Business', 'Week', ',', '\"\\'[i]n', 'practice,', 'HIPAA', 'may', 'not', 'offer', 'any', 'greater', 'protection', 'than', 'the', 'longstanding', 'regulations', 'in', 'the', 'research', \"arena,'\", 'says', 'the', 'AAHC.', 'More', 'importantly,', 'the', \"rule's\", 'goal', 'of', 'protection', 'through', 'informed', 'consent', 'is', 'approach', 'a', 'level', 'of', 'incomprehensibility', 'to', 'average', 'individuals.\"', 'U.S.', 'information', 'privacy', 'legislation', 'such', 'as', 'HIPAA', 'and', 'the', '', 'Copyright', 'law', '[', ']', 'Situation', 'in', 'Europe', '[', ']', 'Under', '', ',', 'the', 'mining', 'of', 'in-copyright', 'works', '(such', 'as', 'by', '', ')', 'without', 'the', 'permission', 'of', 'the', 'copyright', 'owner', 'is', 'not', 'legal.', 'Where', 'a', 'database', 'is', 'pure', 'data', 'in', 'Europe,', 'it', 'may', 'be', 'that', 'there', 'is', 'no', 'copyright—but', 'database', 'rights', 'may', 'exist,', 'so', 'data', 'mining', 'becomes', 'subject', 'to', '', '.', 'On', 'the', 'recommendation', 'of', 'the', '', ',', 'this', 'led', 'to', 'the', 'UK', 'government', 'to', 'amend', 'its', 'copyright', 'law', 'in', '2014', 'to', 'allow', 'content', 'mining', 'as', 'a', '', '.', 'The', '', 'Situation', 'in', 'the', 'United', 'States', '[', ']', ',', 'and', 'in', 'particular', 'its', 'provision', 'for', '', ',', 'upholds', 'the', 'legality', 'of', 'content', 'mining', 'in', 'America,', 'and', 'other', 'fair', 'use', 'countries', 'such', 'as', 'Israel,', 'Taiwan', 'and', 'South', 'Korea.', 'As', 'content', 'mining', 'is', 'transformative,', 'that', 'is', 'it', 'does', 'not', 'supplant', 'the', 'original', 'work,', 'it', 'is', 'viewed', 'as', 'being', 'lawful', 'under', 'fair', 'use.', 'For', 'example,', 'as', 'part', 'of', 'the', '', 'Software', '[', ']', 'See', 'also:', '', 'Free', 'open-source', 'data', 'mining', 'software', 'and', 'applications', '[', ']', 'The', 'following', 'applications', 'are', 'available', 'under', 'free/open-source', 'licenses.', 'Public', 'access', 'to', 'application', 'source', 'code', 'is', 'also', 'available.\\n', 'Proprietary', 'data-mining', 'software', 'and', 'applications', '[', ']', 'The', 'following', 'applications', 'are', 'available', 'under', 'proprietary', 'licenses.\\n', 'See', 'also', '[', ']', 'Methods', 'Application', 'domains', 'Application', 'examples', 'Main', 'article:', '', 'See', 'also:', '', 'Related', 'topics', 'For', 'more', 'information', 'about', 'extracting', 'information', 'out', 'of', 'data', '(as', 'opposed', 'to', '', 'analyzing', 'Other', 'resources', 'References', '[', ']', '^', '', 'a', 'b', 'c', '.', '', '.', '2006-04-30', '.', 'Retrieved', '', '2014-01-27', '.', 'Clifton,', 'Christopher', '(2010).', '', '.', 'Retrieved', '', '2010-12-09', '.', ';', '', ';', '', '.', 'Archived', 'from', '', '.', 'Retrieved', '', '2012-08-07', '.', ';', 'Kamber,', 'Micheline;', 'Pei,', 'Jian', '(2011).', '', 'Data', 'Mining:', 'Concepts', 'and', 'Techniques', '978-0-12-381479-1', '.', '^', '', 'a', 'b', 'c', ';', '', ';', 'Smyth,', 'Padhraic', '(1996).', '', '(PDF)', '.', '', '(PDF)', '.', 'Retrieved', '', '17', 'December', '.', ';', 'Kamber,', 'Micheline', '(2001).', '', 'Data', 'mining:', 'concepts', 'and', 'techniques', '.', '', '.', 'p.\\xa05.', '', '978-1-55860-489-6', '.', '', 'Thus,', 'data', 'mining', 'should', 'have', 'been', 'more', 'appropriately', 'named', '\"knowledge', 'mining', 'from', 'data,\"', 'which', 'is', 'unfortunately', 'somewhat', 'long', ';', 'Frank,', 'Eibe;', 'Hall,', 'Mark', 'A.', '(2011).', '', 'Data', 'Mining:', 'Practical', 'Machine', 'Learning', 'Tools', 'and', 'Techniques', '978-0-12-374856-0', '.', 'Bouckaert,', 'Remco', 'R.;', 'Frank,', 'Eibe;', 'Hall,', 'Mark', 'A.;', 'Holmes,', 'Geoffrey;', 'Pfahringer,', 'Bernhard;', 'Reutemann,', 'Peter;', '', 'Journal', 'of', 'Machine', 'Learning', 'Research', '.', '', '11', ':', '2533–2541.', '', 'the', 'original', 'title,', '\"Practical', 'machine', 'learning\",', 'was', 'changed\\xa0...', 'The', 'term', '\"data', 'mining\"', 'was', '[added]', 'primarily', 'for', 'marketing', 'reasons.', 'Olson,', 'D.', 'L.', '(2007).', 'Data', 'mining', 'in', 'business', 'services.', '', 'Service', 'Business', ',', '', '1', '(3),', '181–193.', '', ':', 'Lovell,', 'Michael', 'C.', '(1983).', '\"Data', 'Mining\".', '', 'The', 'Review', 'of', 'Economics', 'and', 'Statistics', '.', '', '65', ':', '.', '', '.', 'Charemza,', 'Wojciech', 'W.;', 'Deadman,', 'Derek', 'F.', '(1992).', '\"Data', 'Mining\".', '', 'New', 'Directions', 'in', 'Econometric', 'Practice', '.', 'Aldershot:', 'Edward', 'Elgar.', 'pp.\\xa014–31.', '', '1-85278-461-X', '.', 'Mena,', 'Jesús', '(2011).', '', 'Machine', 'Learning', 'Forensics', 'for', 'Law', 'Enforcement,', 'Security,', 'and', 'Intelligence', '.', 'Boca', 'Raton,', 'FL:', 'CRC', 'Press', '(Taylor', '&', 'Francis', 'Group).', '', '978-1-4398-6069-4', '.', ';', 'Parker,', 'Gary', '(2011).', '', '.', '', 'Introduction', 'to', 'Data', 'Mining', '.', 'KD', 'Nuggets', '.', 'Retrieved', '', '30', 'August', '.', 'Coenen,', 'Frans', '(2011-02-07).', '', '.', '', 'The', 'Knowledge', 'Engineering', 'Review', '.', '', '26', ':', '.', '', '.', '', '.', 'Kantardzic,', 'Mehmed', '(2003).', '', 'Data', 'Mining:', 'Concepts,', 'Models,', 'Methods,', 'and', 'Algorithms', '.', 'John', 'Wiley', '&', 'Sons.', '', '978-0-471-22852-3', '.', '', '.', 'KDnuggets', 'Methodology', 'Poll', ',', '', 'KDnuggets', 'Methodology', 'Poll', ',', '', 'KDnuggets', 'Methodology', 'Poll', ',', '', 'KDnuggets', 'Methodology', 'Poll', 'Lukasz', 'Kurgan', 'and', 'Petr', 'Musilek:', '', '.', '', 'The', 'Knowledge', 'Engineering', 'Review', '.', 'Volume', '21', 'Issue', '1,', 'March', '2006,', 'pp\\xa01–24,', 'Cambridge', 'University', 'Press,', 'New', 'York,', '', ':', 'Azevedo,', 'A.', 'and', 'Santos,', 'M.', 'F.', '', '.', 'In', 'Proceedings', 'of', 'the', 'IADIS', 'European', 'Conference', 'on', 'Data', 'Mining', '2008,', 'pp\\xa0182–185.', 'Hawkins,', 'Douglas', 'M', '(2004).', '\"The', 'problem', 'of', 'overfitting\".', '', 'Journal', 'of', 'Chemical', 'Information', 'and', 'Computer', 'Sciences', '.', '', '44', ':', '.', '', '.', '.', '', '.', '.', '', '.', ',', 'International', 'Conferences', 'on', 'Knowledge', 'Discovery', 'and', 'Data', 'Mining,', 'ACM,', 'New', 'York.', ',', 'ACM,', 'New', 'York.', 'Günnemann,', 'Stephan;', 'Kremer,', 'Hardy;', 'Seidl,', 'Thomas', '(2011).', '\"An', 'extension', 'of', 'the', 'PMML', 'standard', 'to', 'subspace', 'clustering', 'models\".', '', 'Proceedings', 'of', 'the', '2011', 'workshop', 'on', 'Predictive', 'markup', 'language', 'modeling', '.', 'p.\\xa048.', '', ':', '.', '', '978-1-4503-0837-3', '.', '', '.', 'Seltzer,', 'William', '(2005).', '', '(PDF)', '.', '', 'ASA', 'Section', 'on', 'Government', 'Statistics', '.', 'American', 'Statistical', 'Association.', '', '(PDF)', 'Pitts,', 'Chip', '(15', 'March', '2007).', '', '.', '', 'Washington', 'Spectator', '.', 'Archived', 'from', '', 'Taipale,', 'Kim', 'A.', '(15', 'December', '2003).', '', '.', '', 'Columbia', 'Science', 'and', 'Technology', 'Law', 'Review', '.', '', '5', '.', '', '.', 'Archived', 'from', '', '.', 'Retrieved', '', '21', 'April', '.', 'Resig,', 'John.', '', '(PDF)', '.', '', '(PDF)', '.', 'Retrieved', '', '16', 'March', '.', '^', '', 'a', 'b', 'c', 'Think', 'Before', 'You', 'Dig:', 'Privacy', 'Implications', 'of', 'Data', 'Mining', '&', 'Aggregation', ',', 'NASCIO', 'Research', 'Brief,', 'September', '2004', 'Ohm,', 'Paul.', '', '.', '', 'Harvard', 'Business', 'Review', '.', 'AOL', 'search', 'data', 'identified', 'individuals', ',', 'SecurityFocus,', 'August', '2006', 'Kshetri,', 'Nir', '(2014).', '', '(PDF)', '.', '', 'Telecommunications', 'Policy', '.', '', '38', ':', '.', 'Weiss,', 'Martin', 'A.;', 'Archick,', 'Kristin', '(19', 'May', '2016).', '', '.', 'Washington,', 'D.C.', 'Congressional', 'Research', 'Service.', 'p.\\xa06.', 'R44257.', 'Archived', 'from', '', '(PDF)', '.', 'Retrieved', '', '9', 'April', '.', '', 'On', 'October', '6,', '2015,', 'the', '', 'Parker,', 'George', '(2018-09-30).', '', '.', '', 'Financial', 'Times', '.', 'Archived', 'from', '', '.', 'Retrieved', '', '2022-12-04', '.', 'Biotech', 'Business', 'Week', 'Editors', '(June', '30,', '2008);', '', 'BIOMEDICINE;', 'HIPAA', 'Privacy', 'Rule', 'Impedes', 'Biomedical', 'Research', ',', 'Biotech', 'Business', 'Week,', 'retrieved', '17', 'November', '2009', 'from', 'LexisNexis', 'Academic', 'Out-Law.com.', '.', '.', '', 'European', 'Commission', '.', 'Retrieved', '', '14', 'November', '.', '.', '', 'Association', 'of', 'European', 'Research', 'Libraries', '.', 'Archived', 'from', '', '.', 'Retrieved', '', '14', 'November', '.', '.', '', 'Lexology.com', '.', 'Antonelli', 'Law', 'Ltd.', '19', 'November', '2013', '.', 'Retrieved', '', '14', 'November', '.', 'Further', 'reading', '[', ']', 'Discovering', 'Data', 'Mining:', 'From', 'Concept', 'to', 'Implementation', 'Knowledge', 'and', 'data', 'Engineering,', 'IEEE', 'Transactions', 'The', 'Text', 'Mining', 'Handbook', 'High', 'Performance', 'Data', 'Mining:', 'Scaling', 'Algorithms,', 'Applications', 'and', 'Systems', 'Data', 'mining:', 'concepts', 'and', 'techniques', 'The', 'Elements', 'of', 'Statistical', 'Learning:', 'Data', 'Mining,', 'Inference,', 'and', 'Prediction', 'Web', 'Data', 'Mining:', 'Exploring', 'Hyperlinks,', 'Contents', 'and', 'Usage', 'Data', 'Murphy,', 'Chris', '(16', 'May', '2011).', '\"Is', 'Data', 'Mining', 'Free', 'Speech?\".', '', ':', '12.', 'Handbook', 'of', 'Statistical', 'Analysis', '&', 'Data', 'Mining', 'Applications', 'Information', 'Science', 'Reference', 'Introduction', 'to', 'Data', 'Mining', 'Pattern', 'Recognition', 'Predictive', 'Data', 'Mining', ';', 'Frank,', 'Eibe;', 'Hall,', 'Mark', 'A.', '(30', 'January', '2011).', '', 'Data', 'Mining:', 'Practical', 'Machine', 'Learning', 'Tools', 'and', 'Techniques', '978-0-12-374856-0', '.', 'The', 'Handbook', 'of', 'Data', 'Mining', 'External', 'links', '[', ']', 'Wikimedia', 'Commons', 'has', 'media', 'related', 'to', '', '.', 'v', 't', 'e', 'v', 't', 'e', 'Creating', 'a', 'data', 'warehouse', 'Concepts', 'Variants', 'Elements', 'Fact', 'Dimension', 'Filling', 'Using', 'a', 'data', 'warehouse', 'Concepts', 'Languages', 'Tools', 'Related', 'People', 'Products', 'v', 't', 'e', 'Note:', 'This', 'template', 'roughly', 'follows', 'the', '2012', '', '.', 'Computer', 'systems', 'organization', 'Software', 'organization', 'Mathematics', 'of', 'computing', 'Applied', 'computing', ':', 'National', '', 'Retrieved', 'from', '\"', '\"', ':', '', 'Hidden', 'categories:', '']\n"
     ]
    }
   ],
   "source": [
    "def wordList(url):\n",
    "    r = requests.get(url)\n",
    "    soup = BeautifulSoup(r.content, \"html.parser\")\n",
    "    text = soup.findAll(text=True)\n",
    "    filtered_text = list(filter(text_filter, text)) # list của các chuỗi\n",
    "    word_list = []\n",
    "\n",
    "    # TODO:\n",
    "    # Với mỗi chuỗi trong filtered_text:\n",
    "    #   Thay thế các dấu câu thành khoảng trắng (gợi ý: danh sách các dấu câu: string.punctuation; thay thế: .replace(...))\n",
    "    #   Tách chuỗi bởi khoảng trắng (.split(...))\n",
    "    #   Thêm các từ vừa được tách ra vào word_list\n",
    "    for word in filtered_text:\n",
    "        word = word.replace(string.punctuation, \" \")\n",
    "        word = word.split(\" \")\n",
    "        word_list.extend(word)\n",
    "    return word_list\n",
    "  \n",
    "# Test\n",
    "print(wordList('https://en.wikipedia.org/wiki/Web_mining'))"
   ]
  },
  {
   "cell_type": "markdown",
   "metadata": {
    "id": "SzKscEdtbeoC"
   },
   "source": [
    "#### Bước 2: Tính tần suất xuất hiện của từ trong 1 trang web, lưu trữ dữ liệu vào data:"
   ]
  },
  {
   "cell_type": "code",
   "execution_count": null,
   "metadata": {
    "id": "HO-qUDncbeoD"
   },
   "outputs": [],
   "source": [
    "def read_url(url, url_idx, data):\n",
    "    word_list = wordList(url)\n",
    "    # TODO\n",
    "    # Với mỗi từ w trong word_list:\n",
    "    #   Nếu w chưa có trong data thì khởi tạo data[w] = [[url_idx], 1]\n",
    "    #   Ngược lại thì thêm url_idx vào data[w][0] (nếu chưa có) và tăng data[w][1] lên 1 đơn vị\n",
    "    for word in word_list:\n",
    "        if word not in data:\n",
    "            data[word] = [[url_idx], 1]\n",
    "        else:\n",
    "            if url_idx not in data[word][0]:\n",
    "                data[word][0].append(url_idx)\n",
    "            data[word][1] += 1\n",
    "    \n",
    "\n",
    "# Test\n",
    "test_data = {}\n",
    "read_url('https://en.wikipedia.org/wiki/Web_mining', 1, test_data)\n",
    "test_data"
   ]
  },
  {
   "cell_type": "markdown",
   "metadata": {
    "id": "R-paYxxpbeoD"
   },
   "source": [
    "#### Bước 3: Chạy chương trình lưu kết quả vào file output.txt"
   ]
  },
  {
   "cell_type": "code",
   "execution_count": null,
   "metadata": {
    "id": "zRNXLKBgbeoD"
   },
   "outputs": [],
   "source": [
    "data = {}\n",
    "read_url('https://en.wikipedia.org/wiki/Web_mining', 1, data)\n",
    "read_url('https://en.wikipedia.org/wiki/Data_mining', 2, data)\n",
    "\n",
    "sorted_keys = sorted(data.keys())\n",
    "\n",
    "with open(\"output.txt\", \"w\", encoding=\"utf-8\") as f:\n",
    "    output_line = \"Word\".ljust(20) + \"Frequency\".ljust(15) + \"URL_idx\".ljust(15) + \"\\n\"\n",
    "    f.writelines(output_line)\n",
    "    f.writelines('---------------------------------------------------------------------\\n\\n')\n",
    "    for key in sorted_keys:\n",
    "        output_string = str(key).ljust(20) + str(data[key][1]).ljust(15) + str(data[key][0]).ljust(15) + \"\\n\"\n",
    "        f.writelines(output_string)\n"
   ]
  },
  {
   "cell_type": "code",
   "execution_count": null,
   "metadata": {
    "id": "2l3CRsQ5beoE"
   },
   "outputs": [],
   "source": [
    "# TODO\n",
    "# Keyword tìm kiếm: python pickle\n",
    "# Dùng pickle để lưu dictionary data xuống đĩa. Sau đó đọc lên và in ra 10 giá trị đầu tiên của nó.\n",
    "\n",
    "# 1. Lưu data\n",
    "import pickle\n",
    "with open(\"pickle_file\", \"wb\") as f:\n",
    "    pickle.dump(f)\n",
    "\n",
    "# 2. Đọc lên và in ra\n",
    "with open(\"pickle_file\", \"rb\") as f:\n",
    "    file_data = pickle.load(f)\n",
    "\n",
    "import itertools\n",
    "result = dict(itertools.islice(file_data.items(), 10))\n",
    "for key, val in result.items():\n",
    "  print(f'\\'{key}\\': {val}')"
   ]
  }
 ],
 "metadata": {
  "colab": {
   "name": "Lab01-WebCrawler.ipynb",
   "provenance": []
  },
  "kernelspec": {
   "display_name": "Python 3 (ipykernel)",
   "language": "python",
   "name": "python3"
  },
  "language_info": {
   "codemirror_mode": {
    "name": "ipython",
    "version": 3
   },
   "file_extension": ".py",
   "mimetype": "text/x-python",
   "name": "python",
   "nbconvert_exporter": "python",
   "pygments_lexer": "ipython3",
   "version": "3.8.8"
  }
 },
 "nbformat": 4,
 "nbformat_minor": 1
}
